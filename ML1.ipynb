{
  "nbformat": 4,
  "nbformat_minor": 0,
  "metadata": {
    "colab": {
      "name": "ML1.ipynb",
      "provenance": [],
      "include_colab_link": true
    },
    "kernelspec": {
      "name": "python2",
      "display_name": "Python 2"
    }
  },
  "cells": [
    {
      "cell_type": "markdown",
      "metadata": {
        "id": "view-in-github",
        "colab_type": "text"
      },
      "source": [
        "<a href=\"https://colab.research.google.com/github/DianaMosquera/Diana-M/blob/master/ML1.ipynb\" target=\"_parent\"><img src=\"https://colab.research.google.com/assets/colab-badge.svg\" alt=\"Open In Colab\"/></a>"
      ]
    },
    {
      "cell_type": "markdown",
      "metadata": {
        "id": "L3olC_dfMoHf",
        "colab_type": "text"
      },
      "source": [
        "**Machine Learning Fundamentals**\n",
        "© Deep Learning Indaba. Apache License 2.0."
      ]
    },
    {
      "cell_type": "markdown",
      "metadata": {
        "id": "VgmuvXJEM2OB",
        "colab_type": "text"
      },
      "source": [
        "Introducción\n",
        "El objetivo de esta practica es entender la idea de clasificación (clasificación de cosas en categorías) utilizando un modelo de ML. Jugar un poco con la relación entre los parámetros de un clasificador y el límite de decisión (una línea que separa las categorías) también idea de una función de pérdida o cost function. Y luego empezar a usar Tensorflow.\n",
        "\n",
        "Objetivos de aprendizaje:\n",
        "\n",
        "*Comprender la idea de clasificación\n",
        "\n",
        "*Comprender el concepto de separabilidad (lineal) de un conjunto de datos\n",
        "\n",
        "*Comprender cuáles son los parámetros de un clasificador y cómo se relacionan con el límite de decisión\n",
        "\n",
        "*Poder explicar brevemente qué es Tensorflow"
      ]
    },
    {
      "cell_type": "markdown",
      "metadata": {
        "id": "x-ay-rIMN7xt",
        "colab_type": "text"
      },
      "source": [
        "**Importar librerías**"
      ]
    },
    {
      "cell_type": "code",
      "metadata": {
        "id": "2v3TxzC0N_ay",
        "colab_type": "code",
        "colab": {
          "base_uri": "https://localhost:8080/",
          "height": 34
        },
        "outputId": "772f4970-2e93-41ab-aae2-bc41c9cf7c12"
      },
      "source": [
        "!pip install -q moviepy > /dev/null 2>&1\n",
        "!pip install -q imageio > /dev/null 2>&1\n",
        "!pip install -q tensorflow==2.0.0-beta0 > /dev/null 2>&1\n",
        "\n",
        "import tensorflow as tf\n",
        "import numpy as np                 # Numpy is an efficient linear algebra library.\n",
        "import matplotlib.pyplot as plt    # Matplotlib is used to generate plots of data.\n",
        "from matplotlib import animation, rc\n",
        "\n",
        "from IPython import display\n",
        "\n",
        "try:\n",
        "  tf.executing_eagerly()\n",
        "  print(\"TensorFlow executing eagerly: {}\".format(tf.executing_eagerly()))\n",
        "except ValueError:\n",
        "  print('Already running eagerly')"
      ],
      "execution_count": 1,
      "outputs": [
        {
          "output_type": "stream",
          "text": [
            "TensorFlow executing eagerly: True\n"
          ],
          "name": "stdout"
        }
      ]
    },
    {
      "cell_type": "markdown",
      "metadata": {
        "id": "pC4Q6myTmGef",
        "colab_type": "text"
      },
      "source": [
        "**Outline:** La clasificación en el aprendizaje automático implica aprender a etiquetar ejemplos en una (o más) categorías discretas. Esto difiere de otra tarea común en el aprendizaje automático llamada regresión, que implica aprender una asignación de entradas a una salida de valor continuo.\n",
        "\n",
        "1.Comenzamos presentando un conjunto de datos de puntos rojos y azules que queremos separar.\n",
        "\n",
        "2.Introducimos y exploramos la idea de la separabilidad lineal.\n",
        "\n",
        "3.Definimos una pérdida como una medida de cuán bueno de un separador es una línea particular\n",
        "\n",
        "4.Presentamos brevemente TensorFlow y mostramos cómo se puede usar para encontrar automáticamente el mínimo de una función de pérdida."
      ]
    },
    {
      "cell_type": "markdown",
      "metadata": {
        "id": "yzK484vonHtQ",
        "colab_type": "text"
      },
      "source": [
        "**Dear data**\n",
        "\n",
        "Ejecuta el código en la celda a continuación y observa el diagrama resultante. Debe producir un conjunto de datos 2D simple que consta de 2 clases de puntos, las clases están representadas por los colores azul y rojo. \n",
        "\n",
        "Nuestra tarea es construir un clasificador binario que pueda distinguir entre los puntos rojo y azul (al rojo y al azul se les conoce como las clases de los puntos), utilizando solo las coordenadas 2-D de un punto. \n",
        "\n",
        "En otras palabras, queremos una función que tome como entrada un vector 2-D que represente las coordenadas de un punto y devuelva un valor de 1 o 0 que indica si el punto es rojo o azul. Aquí hemos codificado los colores rojo y azul en los números 1 y 0 (¡lo que facilita el trabajo en matemáticas y código!)\n",
        "\n",
        "Nota: hems codificado arbitrariamente rojo como 1 y azul como 0, ¡también puedes hacerlo al revés siempre que seas coherente!"
      ]
    },
    {
      "cell_type": "markdown",
      "metadata": {
        "id": "4JBtG5MSp7iZ",
        "colab_type": "text"
      },
      "source": [
        "**Helper functions (run me)**"
      ]
    },
    {
      "cell_type": "code",
      "metadata": {
        "id": "n_theLTWp-Uo",
        "colab_type": "code",
        "colab": {}
      },
      "source": [
        "# this is a helper function to assist with plotting the dataset below\n",
        "def plot_dataset(inputs, labels):\n",
        "  # Plot the given 2D inputs and labels using Matplotlib.   \n",
        "  plt.scatter(\n",
        "      inputs[:, 0], inputs[:, 1], \n",
        "      c=['red' if label > 0 else 'blue' for label in labels])\n",
        "\n",
        "  plt.axis('equal')\n",
        "\n",
        "  plt.xlabel('x1')\n",
        "  plt.ylabel('x2')"
      ],
      "execution_count": 0,
      "outputs": []
    },
    {
      "cell_type": "markdown",
      "metadata": {
        "id": "255AJXZCqFx2",
        "colab_type": "text"
      },
      "source": [
        "**Data**"
      ]
    },
    {
      "cell_type": "code",
      "metadata": {
        "id": "M8N6n3R0qGVf",
        "colab_type": "code",
        "colab": {
          "base_uri": "https://localhost:8080/",
          "height": 283
        },
        "outputId": "1279ab7c-1420-48b6-e00d-32bb14013cc4"
      },
      "source": [
        "#@title Generate the Dataset  {run: \"auto\"}\n",
        "# Define the centre(s) of the points\n",
        "centre = 1.8    #@param {type:\"slider\", min:0, max:2, step:0.1}\n",
        "\n",
        "points_in_class = 20  # How many points we want per class\n",
        "\n",
        "# A fixed random seed is a common \"trick\" used in ML that allows us to recreate\n",
        "# the same data when there is a random element involved. \n",
        "np.random.seed(0)  \n",
        "\n",
        "# Generate random points in the \"red\" class\n",
        "red_inputs = np.random.normal(loc=centre, scale=1.0, size=[points_in_class, 2])     \n",
        "# Generate random points in the \"blue\" class\n",
        "blue_inputs = np.random.normal(loc=-centre, scale=1.0, size=[points_in_class, 2])    \n",
        "# Put these together\n",
        "inputs = np.concatenate((red_inputs, blue_inputs), axis=0) \n",
        "    \n",
        "# The class (label) is 1 for red or 0 for blue\n",
        "red_labels = np.ones(points_in_class)    \n",
        "blue_labels = np.zeros(points_in_class)\n",
        "labels = np.concatenate((red_labels, blue_labels), axis=0)\n",
        "\n",
        "# num_data_points is the total data set size\n",
        "num_data_points = 2 * points_in_class\n",
        "\n",
        "plot_dataset(inputs, labels)"
      ],
      "execution_count": 5,
      "outputs": [
        {
          "output_type": "display_data",
          "data": {
            "image/png": "[encoded data removed]",
            "text/plain": [
              "<Figure size 432x288 with 1 Axes>"
            ]
          },
          "metadata": {
            "tags": []
          }
        }
      ]
    },
    {
      "cell_type": "markdown",
      "metadata": {
        "id": "1kg9iLAeqYLb",
        "colab_type": "text"
      },
      "source": [
        "**¿Cómo se ven los datos?**\n",
        "\n",
        "Las entradas son vectores bidimensionales (puntos en un espacio bidimensional). Aquí están las coordenadas de 4 puntos, que hemos elegido deliberadamente para que los puntos 1 y 2 sean \"rojos\" y los puntos 3 y 4 sean \"azules\"."
      ]
    },
    {
      "cell_type": "code",
      "metadata": {
        "id": "8PEwJ3IJqbPi",
        "colab_type": "code",
        "colab": {
          "base_uri": "https://localhost:8080/",
          "height": 85
        },
        "outputId": "0e095416-c372-4f70-ffd6-365c1c1ca89d"
      },
      "source": [
        "print('Input 1:\\t', inputs[0])\n",
        "print('Input 2:\\t', inputs[1])\n",
        "\n",
        "print('Input 3:\\t', inputs[-1])\n",
        "print('Input 4:\\t', inputs[-2])"
      ],
      "execution_count": 6,
      "outputs": [
        {
          "output_type": "stream",
          "text": [
            "('Input 1:\\t', array([3.56405235, 2.20015721]))\n",
            "('Input 2:\\t', array([2.77873798, 4.0408932 ]))\n",
            "('Input 3:\\t', array([-2.11155253, -1.74383466]))\n",
            "('Input 4:\\t', array([-2.67079715, -2.37884966]))\n"
          ],
          "name": "stdout"
        }
      ]
    },
    {
      "cell_type": "markdown",
      "metadata": {
        "id": "O-7lYkwLqlZ4",
        "colab_type": "text"
      },
      "source": [
        "Las etiquetas son 0 (azul) o 1 (rojo). Aquí están las etiquetas correspondientes a los puntos anteriores:"
      ]
    },
    {
      "cell_type": "code",
      "metadata": {
        "id": "vOv1I62Pqmlj",
        "colab_type": "code",
        "colab": {
          "base_uri": "https://localhost:8080/",
          "height": 85
        },
        "outputId": "8aec8a5a-3e6c-4f67-80e0-f045372201b7"
      },
      "source": [
        "print('Label 1:\\t', labels[0])\n",
        "print('Label 2:\\t', labels[1])\n",
        "\n",
        "print('Label 3:\\t', labels[-1])\n",
        "print('Label 4:\\t', labels[-2])"
      ],
      "execution_count": 7,
      "outputs": [
        {
          "output_type": "stream",
          "text": [
            "('Label 1:\\t', 1.0)\n",
            "('Label 2:\\t', 1.0)\n",
            "('Label 3:\\t', 0.0)\n",
            "('Label 4:\\t', 0.0)\n"
          ],
          "name": "stdout"
        }
      ]
    },
    {
      "cell_type": "markdown",
      "metadata": {
        "id": "hdTjA8psqyy1",
        "colab_type": "text"
      },
      "source": [
        "**Separabilidad lineal**\n",
        "\n",
        "Para un conjunto de datos bidimensional con 2 clases, podemos decir que el conjunto de datos es linealmente separable si es posible dibujar una línea (1-D) que separe los ejemplos de cada clase. \n",
        "\n",
        "En este caso, querríamos una línea entre los puntos rojo y azul de modo que todos los puntos rojos se encuentren en un lado de la línea y todos los puntos azules en el otro. La separabilidad lineal de un conjunto de datos D-dimensional con 2 clases significa que existe un solo plano (D-1) -dimensional (hiper-) que separa las clases (un hiperplano es una generalización de una línea recta a muchas dimensiones).\n",
        "\n",
        "\n",
        "**Tarea exploratoria**\n",
        "\n",
        "En la celda de código bajo el encabezado \"Los datos\", cambia el control deslizante para el valor central. Esto actualizará automáticamente el valor en el código y volverá a dibujar el gráfico.\n",
        "\n",
        "¿A qué valor de centro el conjunto de datos se vuelve linealmente separable?\n",
        "\n",
        "**Pregunta para discusión**\n",
        "\n",
        "¿Puedes pensar en algunos conjuntos de datos 2D, de 2 clases, similares al anterior, que son separables (los puntos de las 2 clases no se superponen entre sí), pero no son linealmente separables? \n",
        "\n",
        "Dibuja algunos ejemplos en papel o complétalos con Matplotlib y mira qué pasa"
      ]
    },
    {
      "cell_type": "markdown",
      "metadata": {
        "id": "lOe7_TW6tCdU",
        "colab_type": "text"
      },
      "source": [
        "**Drawing the line**\n",
        "Si te acuerdas de la escuela, una ecuación $w_1x_1 + w_2x_2 = 0$ puede representar una línea en 2 dimensiones, con ejes de coordenadas $x_1$ and $x_2$,que pasa por el origen (0, 0).\n",
        "\n",
        "También podemos escribir esto en forma de vector como: $\\mathbf{w}^T\\mathbf{x} = 0$, donde $\\mathbf{w}^T = [w_1, w_2]$ y $\\mathbf{x}^T = [x_1, x_2]$.\n",
        "\n",
        "**Nota**: Nuestra línea de arriba pasará por el origen (0,0). Si queremos describir una línea que no pasa por el origen, necesitamos agregar un término de sesgo o bias.\n",
        "\n",
        "Cuando una línea (o más generalmente, un hiperplano) se define de esta manera, llamamos a los **parámetros** $\\mathbf{w} = (w_1, w_2)$ un **vector normal** para la línea. El vector normal es ortogonal (perpendicular) a la línea. Queremos construir una línea que separe los puntos rojo y azul, lo que llamaremos un **límite de decisión**. El nombre \"límite de decisión\" proviene del hecho de que la línea describe el límite en el espacio de entrada donde la salida (decisión) del modelo cambia de una clase a otra.\n",
        "\n",
        "En la siguiente celda, trazamos nuestro conjunto de datos junto con un vector normal $\\mathbf{w}$ y un límite de decisión. Puede ajustar los valores de  $w_1$ y  $w_2$ utilizando los controles deslizantes de la derecha. Observa el efecto que tienen los valores en el vector normal dibujado en rojo y el límite de decisión en negro. Ajusta los valores para que la línea negra separe los puntos azul y rojo (es decir, puntos rojos en un lado y azules en el otro). \n",
        "\n",
        "Tu línea también debe tener el vector normal apuntando en la dirección de los puntos rojos. La razón por la cual la dirección es significativa es que queremos clasificar eventualmente los puntos en un lado de la línea (límite de decisión) como rojos y el otro como azules.\n",
        "\n",
        "¿Es posible encontrar una línea a través del origen que separe perfectamente los puntos?\n",
        "\n",
        "**Nota:** Cada una de nuestras entradas es un vector 2-D, compuesto por dos valores de coordenadas. Nos referimos a estos 2 ejes de coordenadas como $x_1$ y $x_2$. Por ejemplo, si tenemos una entrada  $(1, 2)$, entonces diríamos$x_1 = 1$ y $x_2 = 2$ para ese punto."
      ]
    },
    {
      "cell_type": "code",
      "metadata": {
        "id": "sAKLjjU0vWbI",
        "colab_type": "code",
        "colab": {
          "base_uri": "https://localhost:8080/",
          "height": 337
        },
        "outputId": "1a0054b9-9d57-4057-ee53-c495f99a210e"
      },
      "source": [
        "#@title Effect of parameters {run: \"auto\"}\n",
        "\n",
        "# Define the parameters\n",
        "w1 = 0.8 #@param { type: \"slider\", min: -5, max: 5, step: 0.1 }\n",
        "w2 = 1 #@param { type: \"slider\", min: -5, max: 5, step: 0.1 }\n",
        "\n",
        "plot_dataset(inputs, labels)\n",
        "\n",
        "# Add the weight vector to the plot. We plot it in red, as it has to \"point\"\n",
        "# in the direction of the red points.\n",
        "ax = plt.axes()\n",
        "ax.arrow(0, 0, w1, w2, head_width=0.3, head_length=0.3, fc='r', ec='r')\n",
        "\n",
        "# Plot part of the decision boundary in black. It is orthogonal to the weight\n",
        "# vector.\n",
        "t = 2 # this is how long the line should be\n",
        "plt.plot([-t * w2, t * w2], [t * w1, -t * w1], 'k-')\n",
        "\n",
        "plt.xlim([-4, 4])\n",
        "plt.ylim([-4, 4])\n",
        "\n",
        "plt.show()"
      ],
      "execution_count": 8,
      "outputs": [
        {
          "output_type": "stream",
          "text": [
            "/usr/local/lib/python2.7/dist-packages/matplotlib/cbook/deprecation.py:107: MatplotlibDeprecationWarning: Adding an axes using the same arguments as a previous axes currently reuses the earlier instance.  In a future version, a new instance will always be created and returned.  Meanwhile, this warning can be suppressed, and the future behavior ensured, by passing a unique label to each axes instance.\n",
            "  warnings.warn(message, mplDeprecation, stacklevel=1)\n"
          ],
          "name": "stderr"
        },
        {
          "output_type": "display_data",
          "data": {
            "image/png": "[encoded data removed]",
            "text/plain": [
              "<Figure size 432x288 with 1 Axes>"
            ]
          },
          "metadata": {
            "tags": []
          }
        }
      ]
    },
    {
      "cell_type": "markdown",
      "metadata": {
        "id": "1MVQS8NHwi8D",
        "colab_type": "text"
      },
      "source": [
        "**Clasificación**\n",
        "\n",
        "Dado un vector normal $w$, podemos evaluar a qué lado del límite de decisión se encuentra un punto particular $x_i = (x_i, 1, x_i, 2)$ evaluando $\\mathbf{w^Tx_i}$. Si $\\mathbf{w^Tx_i}> 0$, el punto $x_i$ se encuentra a un lado del límite (en la dirección del vector normal), y podemos clasificar ese punto como perteneciente a la clase $1$ (en nuestro caso, \"rojo\"). \n",
        "\n",
        "Si $\\mathbf{w^Tx_i}> 0$,  el punto se encuentra en el otro lado y se puede clasificar como clase $0$ (en nuestro caso, \"azul\"). Finalmente, si $\\mathbf{w^Tx_i} = 0$, el punto se encuentra en el límite de decisión y podemos decidir si clasificarlo como $0$ o $1$, o ignorarlo."
      ]
    },
    {
      "cell_type": "markdown",
      "metadata": {
        "id": "48Hk5OrV0jRF",
        "colab_type": "text"
      },
      "source": [
        "**¿Qué tan \"buena\" es la línea?**\n",
        "\n",
        "Si jugaste con el código anterior, es posible que hayas desarrollado cierta intuición sobre cómo las diferentes configuraciones de los parámetros influyen en la ubicación final del límite de decisión. ¡El propósito del machine learning es ajustar automáticamente los valores de $w_1$ y $w_2$ para encontrar un límite de decisión adecuado! Pero para hacer esto, necesitamos especificar matemáticamente alguna pérdida o función objetiva. \n",
        "\n",
        "La pérdida es una función de los parámetros $w_1$ y $w_2$ y nos dice cuán buena es una determinada configuración de los valores de los parámetros para clasificar los datos. Esta función se define de tal manera que alcanza su configuración óptima cuando se minimiza, es decir, cuanto menor sea su valor, mejor será la separación entre las clases. Una propiedad adicional que puede tener una función de pérdida que a menudo es crucial para el aprendizaje automático es ser diferenciable. Una función de pérdida diferenciable nos permite utilizar la optimización basada en gradiente para encontrar su valor mínimo y los valores óptimos correspondientes de $w_1$ y $w_2$.\n",
        "\n",
        "Para este problema de clasificación, consideramos la función de pérdida de entropía cruzada binaria o binary cross-entropy  para medir qué tan buenas son las predicciones del modelo. Esta función de pérdida compara la predicción del modelo para cada ejemplo, $x_i$, con el objetivo verdadero $y_i$ (a menudo nos referimos a la etiqueta verdadera asociada con una entrada como \"objetivo\"). Luego aplica la función de registro no lineal para penalizar al modelo por estar más lejos de la clase verdadera.\n",
        "\n",
        "La función de entropía cruzada binaria utiliza una operación llamada función sigmoidea. Esta función permite que nuestro clasificador genere cualquier valor real. La función de pérdida de entropía cruzada binaria, sin embargo, espera que las predicciones hechas por un clasificador estén entre 0 y 1. La función sigmoidea \"aplasta\" cualquier entrada de número real para ubicarse en el intervalo $(0,1)$."
      ]
    },
    {
      "cell_type": "markdown",
      "metadata": {
        "id": "zU1cb0c01tIM",
        "colab_type": "text"
      },
      "source": [
        "Para los que quieren entender esto de una manera más profunda o sea matemática, la ecuación para la pérdida de entropía cruzada binaria, en un conjunto de datos con $N$ puntos, se define de la siguiente manera:\n",
        "\n",
        "\\begin{align}\n",
        "l(\\mathbf{w}; \\mathbf{\\hat{y}}, \\mathbf{y}) = -\\frac{1}{N}\\sum_{i=1}^N y_i log(\\hat{y}_i) + (1-y_i)log(1-\\hat{y}_i)\n",
        "\\end{align}\n",
        "\n",
        "Dónde:\n",
        "\n",
        " $\\hat{y}_i = \\operatorname{sigmoid}(\\mathbf{w}^T\\mathbf{x_i})$ y el $\\operatorname{sigmoid}$ se define como:\n",
        "\n",
        " $$\n",
        "\\mathrm{sigmoid}(a) = \\frac{1}{1 + e^{-a}} .\n",
        "$$\n",
        "\n",
        "Puedes consultar este blog para más información:\n",
        "(https://towardsdatascience.com/understanding-binary-cross-entropy-log-loss-a-visual-explanation-a3ac6025181a).\n",
        "\n",
        "Ahora volvamos a programar para cualquier $W_1$ y $W_2$"
      ]
    },
    {
      "cell_type": "code",
      "metadata": {
        "id": "k0O0Mb963yMj",
        "colab_type": "code",
        "colab": {}
      },
      "source": [
        "def compute_loss(w1, w2, inputs, labels):\n",
        "  \n",
        "  total_log_likelihood = 0\n",
        "  N = len(inputs)\n",
        "  \n",
        "  # Add the contribution of each datapoint to the loss\n",
        "  for (x1, x2), target in zip(inputs, labels):\n",
        "    # As our targets are 0 or 1, our prediction function must output a value between 0 and 1.\n",
        "    # The sigmoid function 'squashes' any value to lie between 0 and 1:\n",
        "    prediction = tf.sigmoid(w1*x1 + w2*x2)  \n",
        "    \n",
        "    # Compute the local loss term\n",
        "    # We add 1e-10 to make the log operations numerically stable (i.e. avoid taking the log of 0.)\n",
        "    log_likelihood = target * tf.math.log(prediction + 1e-10) + (1.-target)*tf.math.log(1.-prediction + 1e-10)\n",
        "    total_log_likelihood += log_likelihood\n",
        "  \n",
        "  loss = -total_log_likelihood\n",
        "  average_loss = loss / N\n",
        "  return average_loss"
      ],
      "execution_count": 0,
      "outputs": []
    },
    {
      "cell_type": "markdown",
      "metadata": {
        "id": "YS7fkVj169hU",
        "colab_type": "text"
      },
      "source": [
        "**Optional section: More on the sigmoid function**"
      ]
    },
    {
      "cell_type": "markdown",
      "metadata": {
        "id": "GYnxTBTJ7Hi9",
        "colab_type": "text"
      },
      "source": [
        "**Pregunta:**\n",
        "\n",
        "Qué crees que es importante al diseñar una buena función de pérdida, es decir, ¿qué debe hacer la función de pérdida cuando el modelo produce una predicción buena / mala?\n",
        "\n",
        "Si deseas, puedes revisar con matemáticas, muestra cómo la función sigmoidea (y la función binaria de entropía cruzada) es buena para evaluar la calidad de las predicciones utilizando las siguientes preguntas:"
      ]
    },
    {
      "cell_type": "code",
      "metadata": {
        "id": "sc8FkFVW7a_6",
        "colab_type": "code",
        "colab": {
          "base_uri": "https://localhost:8080/",
          "height": 286
        },
        "outputId": "e0bab368-5dc1-45bb-d5e0-1236a8cbfd76"
      },
      "source": [
        "ax = plt.axes()\n",
        "xs = np.arange(-10,10)\n",
        "ax.plot(xs, 1 / (1 + np.exp(-xs)))"
      ],
      "execution_count": 12,
      "outputs": [
        {
          "output_type": "execute_result",
          "data": {
            "text/plain": [
              "[<matplotlib.lines.Line2D at 0x7fddf8b32d10>]"
            ]
          },
          "metadata": {
            "tags": []
          },
          "execution_count": 12
        },
        {
          "output_type": "display_data",
          "data": {
            "image/png": "[encoded data removed]",
            "text/plain": [
              "<Figure size 432x288 with 1 Axes>"
            ]
          },
          "metadata": {
            "tags": []
          }
        }
      ]
    },
    {
      "cell_type": "markdown",
      "metadata": {
        "id": "DcmvZ3St8RRp",
        "colab_type": "text"
      },
      "source": [
        "Como se señaló anteriormente, la función sigmoidea se define como\n",
        "$$\n",
        "\\mathrm{sigmoid}(a) = \\frac{1}{1 + e^{-a}} .\n",
        "$$\n",
        "¿Puedes mostrar eso?\n",
        "$$\n",
        "1 - \\mathrm{sigmoid}(a) = \\frac{1}{1 + e^{a}} ,\n",
        "$$\n",
        "y dibujar ambos en una hoja de papel?\n",
        "\n",
        "* ¿Cuál es su valor cuando $a = \\mathbf{w}^{T}\\mathbf{x}$ es positivo? ¿negativo? y cero?\n",
        "* ¿Qué sucede con su valor cuando$a = \\mathbf{w}^{T}\\mathbf{x}$ se hace más grande?\n",
        "* ¿Cuál es el valor de $\\mathrm{sigmoid}(\\mathbf{w^Tx})$  cuando $\\mathbf{w}^T\\mathbf{x} = 0$? ¿Cómo cambia esto cómo clasificamos los puntos a ambos lados del límite de decisión?\n",
        "\n",
        "** SUGERENCIA **: Recuerda que la idea de la función de pérdida es devolver valores pequeños cuando el clasificador hace buenas predicciones y valores grandes cuando el clasificador hace malas predicciones.\n",
        "\n",
        "* Si no te siente cómodo con las matemáticas *, recuerde que el objetivo principal de esta pregunta es ** resaltar la importancia de la pérdida binaria de entropía cruzada ** y ** NO ** las matemáticas, ¡así que  a concéntrarse en los conceptos!"
      ]
    },
    {
      "cell_type": "markdown",
      "metadata": {
        "id": "VtgSdEJ_9XNa",
        "colab_type": "text"
      },
      "source": [
        "**Pregunta extra**\n",
        "\n",
        "Derivamos la función compute_loss () anterior basada en minimizar la pérdida logarítmica del error de predicción. Esto está relacionado con un concepto llamado 'entropía cruzada'. Pero otra forma de derivar exactamente la misma función de pérdida es maximizando la probabilidad de los datos bajo el modelo $P(y | x, w_1, w_2)$. Si está familiarizado con este concepto (por ejemplo, a partir de estadísticas), vea si también puede derivarlo de esta manera.\n",
        "\n",
        "###Lectura adicional opcional\n",
        "Más información  [cross-entropy loss](http://ml-cheatsheet.readthedocs.io/en/latest/loss_functions.html) y otra info interesante [information theory](https://rdipietro.github.io/friendly-intro-to-cross-entropy-loss/).\n"
      ]
    },
    {
      "cell_type": "markdown",
      "metadata": {
        "id": "fu5CpvJ39-xQ",
        "colab_type": "text"
      },
      "source": [
        "## Loss value for your chosen $w_1$ and $w_2$"
      ]
    },
    {
      "cell_type": "markdown",
      "metadata": {
        "id": "t48VVVRb-5QL",
        "colab_type": "text"
      },
      "source": [
        "La siguiente línea de código calcula el valor de pérdida para los valores elegidos de $w_1$ y $w_2$. Intenta cambiar los valores de $w_1$ y $w_2$ con los controles deslizantes. \n",
        "\n",
        "¿Puedes ver cómo una mejor separación resulta en una pérdida menor?\n",
        "\n",
        "**Nota:** Si has usado una versión anterior de TensorFlow anteriormente, ¡puede ser confuso cómo funciona esta celda de código! "
      ]
    },
    {
      "cell_type": "code",
      "metadata": {
        "id": "t3A08-mw-6JM",
        "colab_type": "code",
        "colab": {
          "base_uri": "https://localhost:8080/",
          "height": 300
        },
        "outputId": "3335626f-3e46-4b28-b9cc-13fd0a34d6de"
      },
      "source": [
        "#@title Effect of parameters on the loss {run: \"auto\"}\n",
        "\n",
        "# Define the parameters\n",
        "w1 = -1 #@param { type: \"slider\", min: -5, max: 5, step: 0.1 }\n",
        "w2 = 1 #@param { type: \"slider\", min: -5, max: 5, step: 0.1 }\n",
        "\n",
        "plot_dataset(inputs, labels)\n",
        "\n",
        "# Add the weight vector to the plot. We plot it in red, as it has to \"point\"\n",
        "# in the direction of the red points.\n",
        "ax = plt.axes()\n",
        "ax.arrow(0, 0, w1, w2, head_width=0.3, head_length=0.3, fc='r', ec='r')\n",
        "\n",
        "# Plot part of the decision boundary in black. It is orthogonal to the weight\n",
        "# vector.\n",
        "t = 2 # this is how long the line should be\n",
        "plt.plot([-t * w2, t * w2], [t * w1, -t * w1], 'k-')\n",
        "\n",
        "plt.xlim([-4, 4])\n",
        "plt.ylim([-4, 4])\n",
        "\n",
        "plt.show()\n",
        "\n",
        "compute_loss(w1, w2, inputs, labels).numpy()"
      ],
      "execution_count": 14,
      "outputs": [
        {
          "output_type": "display_data",
          "data": {
            "image/png": "[encoded data removed]",
            "text/plain": [
              "<Figure size 432x288 with 1 Axes>"
            ]
          },
          "metadata": {
            "tags": []
          }
        },
        {
          "output_type": "execute_result",
          "data": {
            "text/plain": [
              "1.0957342554876406"
            ]
          },
          "metadata": {
            "tags": []
          },
          "execution_count": 14
        }
      ]
    },
    {
      "cell_type": "markdown",
      "metadata": {
        "id": "UMxTA0tT_BMd",
        "colab_type": "text"
      },
      "source": [
        "## Visualising the loss function"
      ]
    },
    {
      "cell_type": "markdown",
      "metadata": {
        "id": "KAuAIREh_b6v",
        "colab_type": "text"
      },
      "source": [
        "Podemos visualizar la función de pérdida para nuestro conjunto de datos trazando su valor en cada punto de una cuadrícula completa de valores de parámetros $w_1$ y $w-2$. Hacemos esto usando un diagrama de contorno, que es una técnica para visualizar una función tridimensional en un diagrama bidimensional dejando que el color represente la tercera dimensión. Todos los puntos con el mismo color tienen el mismo valor de pérdida."
      ]
    },
    {
      "cell_type": "code",
      "metadata": {
        "id": "JOyD2cwB_jle",
        "colab_type": "code",
        "colab": {
          "base_uri": "https://localhost:8080/",
          "height": 295
        },
        "outputId": "0a99a114-a921-4849-f8f6-1880a0287594"
      },
      "source": [
        "# We define a function so we can re-use this code later\n",
        "def plot_contours():  \n",
        "  # Generate a whole bunch of (w1, w2) points in a grid\n",
        "  ind = np.linspace(-5, 5, 50)\n",
        "  w1grid, w2grid = np.meshgrid(ind, ind)\n",
        "\n",
        "  # Compute the loss for each point in the grid\n",
        "  losses = []\n",
        "  for w1s, w2s in zip(w1grid, w2grid):\n",
        "    loss = compute_loss(w1s, w2s, inputs, labels)\n",
        "    losses.append(loss)\n",
        "\n",
        "  # Pack the loss values for every value of w1 & w2 into one (50,50) array\n",
        "  losses_array = np.concatenate(losses).reshape(50,50)\n",
        "\n",
        "  # Now plot the resulting loss function as a contour plot over the whole grid of (w1, w2) values.\n",
        "  fig = plt.figure()\n",
        "  plt.contourf(w1grid, w2grid, losses_array, 20, cmap=plt.cm.jet)\n",
        "  cbar = plt.colorbar()\n",
        "  cbar.ax.set_ylabel('Binary cross-entropy loss value')\n",
        "  plt.xlabel('w1 value')\n",
        "  plt.ylabel('w2 value')\n",
        "  plt.title('Total loss for different values of w1 and w2')\n",
        "\n",
        "plot_contours()"
      ],
      "execution_count": 15,
      "outputs": [
        {
          "output_type": "display_data",
          "data": {
            "image/png": "[encoded data removed]",
            "text/plain": [
              "<Figure size 432x288 with 2 Axes>"
            ]
          },
          "metadata": {
            "tags": []
          }
        }
      ]
    },
    {
      "cell_type": "markdown",
      "metadata": {
        "id": "DYSf2HHr_xGG",
        "colab_type": "text"
      },
      "source": [
        "En la barra de la derecha, a medida que el color va de rojo a azul, el valor de pérdida disminuye y disminuye hasta alcanzar el valor más pequeño (azul oscuro).\n",
        "\n",
        "Dado que queremos que la pérdida sea lo más pequeña posible, queremos que nuestros valores de $w_1$ y $w_2$ produzcan una pérdida en el área azul oscuro de la gráfica de contorno. Esto se logra dentro de un cierto rango de valores para $w_1$ y $w_2$.\n",
        "\n",
        "Pregunta: ¿Puedes leer qué valores de $w_1$ y $w_2$ te darán la menor pérdida? \n",
        "\n",
        "¿Son estos valores similares a los que encontró anteriormente para separar linealmente los datos?\n",
        "\n",
        "**Pregunta**: Dependiendo del punto central que elijas, el valor más pequeño para la pérdida puede no ser 0. ¿En qué circunstancias es este el caso?"
      ]
    },
    {
      "cell_type": "markdown",
      "metadata": {
        "id": "tURyPnIsARPd",
        "colab_type": "text"
      },
      "source": [
        "##Optimizando la pérdida usando TensorFlow"
      ]
    },
    {
      "cell_type": "markdown",
      "metadata": {
        "id": "d5wSPuzuEHFB",
        "colab_type": "text"
      },
      "source": [
        "Ahora que tenemos una función que nos da la pérdida para diferentes valores de $ w_1 $ y $ w_2 $, queremos un método automatizado para encontrar los valores que minimicen la función de pérdida. Aquí es donde entra en juego la optimización por **descenso de gradiente**. La idea es que para cada (batch of) puntos de datos, calculemos la pérdida utilizando los valores actuales de $ w_1 $ y $ w_2 $ en los datos. Luego calculamos el **gradiente** (o derivado) de la función de pérdida en los valores actuales de $ w_1 $ y $ w_2 $. El negativo del gradiente apunta en la dirección del *steepest descent* a lo largo de la función de pérdida. Al ajustar los valores de $ w_1 $ y $ w_2 $ en la dirección del gradiente negativo, nos acercamos al mínimo de la función de pérdida (siempre que la función de pérdida tenga un \"buen comportamiento\"). El gran paso que damos está mediado por la **tasa de aprendizaje**. Para hacer esto más fácilmente, usaremos TensorFlow.\n",
        "\n"
      ]
    },
    {
      "cell_type": "markdown",
      "metadata": {
        "id": "umnG0bZfFFlf",
        "colab_type": "text"
      },
      "source": [
        "##Optional extra reading: TensorFlow"
      ]
    },
    {
      "cell_type": "markdown",
      "metadata": {
        "id": "SLnrhiZqFUDs",
        "colab_type": "text"
      },
      "source": [
        "*TensorFlow* (TF) es una biblioteca de software de código abierto para el cálculo numérico que utiliza el concepto de tensores. Puedes pensar en los tensores como una generalización de matrices a dimensiones superiores, o más o menos equivalentes a matrices multidimensionales. Los escalares son tensores de 0 dimensiones, los vectores son de 1 dimensión, las matrices estándar son de 2 dimensiones y los tensores de dimensiones superiores tienen 3 o más dimensiones. Puedes pensar que las dimensiones representan grupos de números que significan lo mismo. Por ejemplo, para las imágenes, a menudo utilizamos tensores tridimensionales donde la primera dimensión representa los canales de color rojo, verde y azul de la imagen, y los dos siguientes son las columnas y filas de píxeles de la imagen.\n",
        "\n",
        "**Nota:** No te confundas cuando las personas digan \"vector 2-D\" o \"vector 3-D\", que se refiere a un tensor unidimensional que tiene tamaño 2 o 3.\n",
        "\n",
        "La principal ventaja de usar TensorFlow es que puede derivar automáticamente los gradientes de muchas expresiones matemáticas que involucran tensores. Lo logra a través de un proceso llamado \"diferenciación automática\". Tensorflow también admite múltiples \"núcleos\", lo que le permite ejecutar fácilmente su código en procesadores normales (CPU), tarjetas gráficas (GPU) y otros aceleradores de hardware más exóticos como las Unidades de procesamiento de tensor (TPU) de Google\n",
        "\n",
        "Tensorflow en realidad proporciona dos modos de operación, el primero, llamado \"modo gráfico\", crea un gráfico de cálculo por adelantado y luego introduce datos en el gráfico. Al construir el gráfico por adelantado, Tensorflow puede aplicar optimizaciones al gráfico que le permiten extraer el máximo rendimiento del hardware que está ejecutando. El segundo modo, llamado \"Eager-mode\", es mucho más nuevo y evalúa las operaciones de Tensor de manera imperativa (en el orden en que las escribe), similar a NumPy y PyTorch. Eager-mode es un poco menos eficiente pero mucho más intuitivo, especialmente si nunca antes ha usado un estilo de programación \"definir y ejecutar\" (como el modo gráfico). "
      ]
    },
    {
      "cell_type": "markdown",
      "metadata": {
        "id": "NP58SXd4IX_9",
        "colab_type": "text"
      },
      "source": [
        "### Usando Tensorflow para optimizar la pérdida\n",
        "Utilizamos TensorFlow para optimizar los parámetros del modelo con descenso de gradiente. Recorremos el conjunto de datos varias veces (llamadas \"epochs\") y trazamos el límite de decisión final junto con un diagrama que muestra cómo los parámetros y la pérdida cambiaron durante las épocas.\n",
        "\n",
        "**Nota**: TensorFlow probablemente es excesivo para este ejemplo, porque el gradiente es muy fácil de calcular."
      ]
    },
    {
      "cell_type": "code",
      "metadata": {
        "id": "9WfZrYzOIsLz",
        "colab_type": "code",
        "colab": {
          "base_uri": "https://localhost:8080/",
          "height": 612
        },
        "outputId": "8f05ffa8-e0c9-43eb-da63-f7e208e83593"
      },
      "source": [
        "lr = 0.33  # The learning rate\n",
        "\n",
        "# Initialise Tensorflow variables representing our parameters.\n",
        "# We need to use TensorFlow variables here rather than Numpy or Python ones so \n",
        "# that TensorFlow is able to compute gradients.\n",
        "w1 = tf.Variable(-2.0, dtype=tf.float64)  \n",
        "w2 = tf.Variable(-4.0,  dtype=tf.float64)  \n",
        "print(w1.dtype)\n",
        "\n",
        "plot_contours()\n",
        "\n",
        "# Loop over the dataset multiple times\n",
        "parameter_values = []\n",
        "for epoch in range(100):\n",
        "  plt.scatter(w1.numpy(), w2.numpy(), marker='o', color='black')\n",
        "  \n",
        "  # The GradientTape is how TF keeps track of gradients in Eager-mode\n",
        "  with tf.GradientTape() as tape:\n",
        "    loss = compute_loss(w1, w2, inputs, labels)\n",
        "  \n",
        "  # Now we take a step in parameter space in the direction of the gradient to move the parameters closer (hopefully!) to their optimum\n",
        "  dw1, dw2 = tape.gradient(loss, [w1, w2])\n",
        "  \n",
        "  # Step 'lr units' in the direction of the negative gradient\n",
        "  # We achieve this by subtracting lr * dw1 and lr * dw2 from the w1 and w2 variables\n",
        "  w1.assign_sub(lr*dw1)\n",
        "  w2.assign_sub(lr*dw2)\n",
        "  \n",
        "print('Finished optimisation, the final values of w1 and w2 are:')\n",
        "print(w1.numpy(), w2.numpy(), loss)\n",
        "\n",
        "# Plot the final point on the loss surface.\n",
        "plt.scatter(w1.numpy(), w2.numpy(), marker='x', color='red')\n",
        "plt.show()\n",
        "\n",
        "# Plot the final decision boundary\n",
        "plot_dataset(inputs, labels)\n",
        "ax = plt.axes()\n",
        "ax.arrow(0, 0, w1.numpy(), w2.numpy(), head_width=0.3, head_length=0.3, fc='r', ec='r')\n",
        "plt.plot([-2 * w2.numpy(), 2 * w2.numpy()], [2 * w1.numpy(), -2 * w1.numpy()], 'k-')\n",
        "\n",
        "plt.xlim([-4, 4])\n",
        "plt.ylim([-4, 4])\n",
        "\n",
        "plt.show()"
      ],
      "execution_count": 16,
      "outputs": [
        {
          "output_type": "stream",
          "text": [
            "<dtype: 'float64'>\n",
            "Finished optimisation, the final values of w1 and w2 are:\n",
            "(2.017177322707697, 1.0905288562693618, <tf.Tensor: id=342058, shape=(), dtype=float64, numpy=0.013681986409541411>)\n"
          ],
          "name": "stdout"
        },
        {
          "output_type": "display_data",
          "data": {
            "image/png": "[encoded data removed]",
            "text/plain": [
              "<Figure size 432x288 with 2 Axes>"
            ]
          },
          "metadata": {
            "tags": []
          }
        },
        {
          "output_type": "display_data",
          "data": {
            "image/png": "[encoded data removed]",
            "text/plain": [
              "<Figure size 432x288 with 1 Axes>"
            ]
          },
          "metadata": {
            "tags": []
          }
        }
      ]
    },
    {
      "cell_type": "markdown",
      "metadata": {
        "id": "A64hpgS_JHRO",
        "colab_type": "text"
      },
      "source": [
        "¿Puedes ver cómo el modelo atraviesa el diagrama de contorno hasta que minimiza la pérdida?\n",
        "\n",
        "¿Cómo se corresponden los valores finales de $w_1$ y $w_2$ encontrados por Tensorflow con los valores que encontró manualmente? Si no lo son, ¿puedes explicar por qué?\n",
        "\n",
        "## Tareas opcionales\n",
        "Si has trabajado en esta práctica, has respondido todas las preguntas y sientes que comprendes bien lo que está sucediendo, intenta las siguientes tareas:\n",
        "\n",
        "1. Agregue un parámetro **sesgo** a la ecuación para el límite de decisión y visualiza cómo eso cambia el límite de decisión, la pérdida y la solución final encontrada por Tensorflow.\n",
        "2. Agregue un **regularizador**, por ejemplo, el regularizador L2 (consulta el apéndice a continuación para obtener más información): ¿cómo afecta el diagrama de contorno de los parámetros frente a la pérdida? ¿Cómo afecta la pérdida el cambio en la fuerza de la regularización?\n"
      ]
    },
    {
      "cell_type": "markdown",
      "metadata": {
        "id": "6fBeWX3bLidt",
        "colab_type": "text"
      },
      "source": [
        "# Appendix"
      ]
    },
    {
      "cell_type": "markdown",
      "metadata": {
        "id": "AUWGht6VLs-Y",
        "colab_type": "text"
      },
      "source": [
        "Dos de los métodos de regularización más simples son la regularización L1 y L2 (o mejor conocidos como _Lasso_ y _Ridge_ regresión si has utilizado la regresión lineal antes). Ambos métodos regularizan el modelo agregando un término a la pérdida que penaliza el modelo si se vuelve demasiado complejo.\n",
        "La regularización L1 agrega un término basado en la norma L1:\n",
        "\n",
        "$loss_{L1} = loss + \\lambda \\sum_i |w_i|$\n",
        "\n",
        "donde $\\lambda$ es un parámetro que controla la cantidad de regularización, y $w_i$ son los parámetros del modelo. La regularización de L1 tiene el efecto de obligar a algunos parámetros a reducirse a 0, eliminándolos efectivamente del modelo.\n",
        "\n",
        "La regularización L2 agrega de manera similar un término basado en la norma L2:\n",
        "\n",
        "$loss_{L2} = loss + \\lambda \\sum_i w_i^2$.\n",
        "\n",
        "La regularización de L2 tiene el efecto de evitar que cualquiera de los parámetros se vuelva demasiado grande y sobrecargar a los demás.\n",
        "\n",
        "En algunos casos, puede funcionar bien usar tanto la regularización L1 como la L2.\n",
        "\n",
        "Para obtener más información, (http://enhancedatascience.com/2017/07/04/machine-learning-explained-regularization/) y  (https://towardsdatascience.com/l1-and- l2-regularization-method-ce25e7fc831c)."
      ]
    },
    {
      "cell_type": "code",
      "metadata": {
        "id": "Jve2vevsMN13",
        "colab_type": "code",
        "colab": {}
      },
      "source": [
        ""
      ],
      "execution_count": 0,
      "outputs": []
    }
  ]
}